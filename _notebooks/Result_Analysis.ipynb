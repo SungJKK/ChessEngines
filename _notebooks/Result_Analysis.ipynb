{
 "cells": [
  {
   "cell_type": "code",
   "execution_count": 1,
   "id": "0a65bd7f-ce48-444c-992a-2a19b1e10618",
   "metadata": {},
   "outputs": [],
   "source": [
    "import numpy as np\n",
    "import pandas as pd\n",
    "\n",
    "import matplotlib.pyplot as plt\n",
    "import seaborn as sns"
   ]
  },
  {
   "cell_type": "markdown",
   "id": "7fca5b43-8a2d-4545-8e79-34ec0b952c95",
   "metadata": {},
   "source": [
    "# Example on extracting game result data\n",
    "DQN models:\n",
    "- v0.0: trained 1000 games\n",
    "- v0.1: trained 1000 games\n",
    "- v0.2: trained 1000 games\n",
    "\n",
    "\n",
    "File name formatted in:\n",
    "- DQN_{version_number}-Algorithmic_{algorithm}.log'\n",
    "- where white comes first"
   ]
  },
  {
   "cell_type": "code",
   "execution_count": 2,
   "id": "e697901e-f1e2-45ad-b7a4-a71529a28ef1",
   "metadata": {},
   "outputs": [
    {
     "data": {
      "text/html": [
       "<div>\n",
       "<style scoped>\n",
       "    .dataframe tbody tr th:only-of-type {\n",
       "        vertical-align: middle;\n",
       "    }\n",
       "\n",
       "    .dataframe tbody tr th {\n",
       "        vertical-align: top;\n",
       "    }\n",
       "\n",
       "    .dataframe thead th {\n",
       "        text-align: right;\n",
       "    }\n",
       "</style>\n",
       "<table border=\"1\" class=\"dataframe\">\n",
       "  <thead>\n",
       "    <tr style=\"text-align: right;\">\n",
       "      <th></th>\n",
       "      <th>Game_#/Total_Games:winner</th>\n",
       "      <th>result</th>\n",
       "      <th>timestep_score</th>\n",
       "      <th>reason</th>\n",
       "      <th>model_epsilon_value</th>\n",
       "    </tr>\n",
       "  </thead>\n",
       "  <tbody>\n",
       "    <tr>\n",
       "      <th>0</th>\n",
       "      <td>8/10000:black</td>\n",
       "      <td>0-1</td>\n",
       "      <td>187</td>\n",
       "      <td>Termination.CHECKMATE</td>\n",
       "      <td>0.838859</td>\n",
       "    </tr>\n",
       "    <tr>\n",
       "      <th>1</th>\n",
       "      <td>18/10000:white</td>\n",
       "      <td>1-0</td>\n",
       "      <td>138</td>\n",
       "      <td>Termination.CHECKMATE</td>\n",
       "      <td>0.758649</td>\n",
       "    </tr>\n",
       "    <tr>\n",
       "      <th>2</th>\n",
       "      <td>19/10000:black</td>\n",
       "      <td>0-1</td>\n",
       "      <td>43</td>\n",
       "      <td>Termination.CHECKMATE</td>\n",
       "      <td>0.751062</td>\n",
       "    </tr>\n",
       "    <tr>\n",
       "      <th>3</th>\n",
       "      <td>35/10000:white</td>\n",
       "      <td>1-0</td>\n",
       "      <td>62</td>\n",
       "      <td>Termination.CHECKMATE</td>\n",
       "      <td>0.639498</td>\n",
       "    </tr>\n",
       "    <tr>\n",
       "      <th>4</th>\n",
       "      <td>48/10000:None</td>\n",
       "      <td>1/2-1/2</td>\n",
       "      <td>207</td>\n",
       "      <td>Termination.INSUFFICIENT_MATERIAL</td>\n",
       "      <td>0.561173</td>\n",
       "    </tr>\n",
       "  </tbody>\n",
       "</table>\n",
       "</div>"
      ],
      "text/plain": [
       "  Game_#/Total_Games:winner   result  timestep_score  \\\n",
       "0             8/10000:black      0-1             187   \n",
       "1            18/10000:white      1-0             138   \n",
       "2            19/10000:black      0-1              43   \n",
       "3            35/10000:white      1-0              62   \n",
       "4             48/10000:None  1/2-1/2             207   \n",
       "\n",
       "                              reason  model_epsilon_value  \n",
       "0              Termination.CHECKMATE             0.838859  \n",
       "1              Termination.CHECKMATE             0.758649  \n",
       "2              Termination.CHECKMATE             0.751062  \n",
       "3              Termination.CHECKMATE             0.639498  \n",
       "4  Termination.INSUFFICIENT_MATERIAL             0.561173  "
      ]
     },
     "execution_count": 2,
     "metadata": {},
     "output_type": "execute_result"
    }
   ],
   "source": [
    "data = pd.read_csv('../_logs/training/v0.2.log')\n",
    "data.head()"
   ]
  },
  {
   "cell_type": "code",
   "execution_count": 5,
   "id": "61d83141-cc29-406a-b331-54bcef8faf20",
   "metadata": {},
   "outputs": [
    {
     "data": {
      "text/plain": [
       "game_count       9875\n",
       "winner           9875\n",
       "game_result      9875\n",
       "total_moves      9875\n",
       "reason           9875\n",
       "epsilon_value    9875\n",
       "dtype: int64"
      ]
     },
     "execution_count": 5,
     "metadata": {},
     "output_type": "execute_result"
    }
   ],
   "source": [
    "# Cleaned data\n",
    "split_first_col = data['Game_#/Total_Games:winner'].str.split(':', expand = True)\n",
    "clean_data = pd.DataFrame({\n",
    "    'game_count': split_first_col[0],\n",
    "    'winner': split_first_col[1],\n",
    "    'game_result': data['result'],\n",
    "    'total_moves': data['timestep_score'],\n",
    "    'reason': data['reason'].str.split('.', expand = True)[1].str.lower(),\n",
    "    'epsilon_value': data['model_epsilon_value']\n",
    "})\n",
    "clean_data.count()"
   ]
  },
  {
   "cell_type": "code",
   "execution_count": 4,
   "id": "5f17ea4f-ebe5-49ef-a39a-1b76215e5fda",
   "metadata": {},
   "outputs": [
    {
     "data": {
      "text/plain": [
       "game_count       9854\n",
       "winner           9854\n",
       "game_result      9854\n",
       "total_moves      9854\n",
       "reason           9854\n",
       "epsilon_value    9854\n",
       "dtype: int64"
      ]
     },
     "execution_count": 4,
     "metadata": {},
     "output_type": "execute_result"
    }
   ],
   "source": [
    "# Do analysis\n",
    "clean_data[clean_data['winner'] == 'None'].count()"
   ]
  }
 ],
 "metadata": {
  "kernelspec": {
   "display_name": "Python 3 (ipykernel)",
   "language": "python",
   "name": "python3"
  },
  "language_info": {
   "codemirror_mode": {
    "name": "ipython",
    "version": 3
   },
   "file_extension": ".py",
   "mimetype": "text/x-python",
   "name": "python",
   "nbconvert_exporter": "python",
   "pygments_lexer": "ipython3",
   "version": "3.9.15"
  }
 },
 "nbformat": 4,
 "nbformat_minor": 5
}
